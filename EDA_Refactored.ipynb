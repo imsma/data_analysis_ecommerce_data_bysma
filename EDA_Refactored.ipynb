{
 "cells": [
  {
   "cell_type": "markdown",
   "id": "050f412f",
   "metadata": {},
   "source": [
    "# E-commerce Business Analytics Dashboard\n",
    "\n",
    "## Executive Summary\n",
    "\n",
    "This notebook provides comprehensive analysis of e-commerce business performance, focusing on revenue trends, customer behavior, and operational metrics. The analysis framework is designed to be configurable for any time period and reusable across different datasets.\n",
    "\n",
    "## Table of Contents\n",
    "\n",
    "1. [Introduction & Business Objectives](#introduction)\n",
    "2. [Data Loading & Configuration](#data-loading)\n",
    "3. [Data Preparation & Transformation](#data-preparation)\n",
    "4. [Business Metrics Analysis](#business-metrics)\n",
    "   - [Revenue Performance Analysis](#revenue-analysis)\n",
    "   - [Product Category Performance](#category-analysis)\n",
    "   - [Geographic Performance Analysis](#geographic-analysis)\n",
    "   - [Customer Experience Analysis](#customer-experience)\n",
    "5. [Summary of Key Insights](#summary)\n",
    "\n",
    "## Data Dictionary\n",
    "\n",
    "### Key Business Terms\n",
    "- **Revenue**: Total monetary value from completed orders (price + freight)\n",
    "- **AOV (Average Order Value)**: Average total value per order\n",
    "- **Order Status**: Current state of order (delivered, canceled, shipped, processing, pending, returned)\n",
    "- **Delivery Speed**: Time from order placement to customer delivery\n",
    "- **Review Score**: Customer rating on 1-5 scale (5 being highest satisfaction)\n",
    "- **NPS**: Net Promoter Score calculated from review scores\n",
    "\n",
    "### Dataset Information\n",
    "- **Orders**: Contains order-level information including timestamps and status\n",
    "- **Order Items**: Contains item-level details including pricing and products\n",
    "- **Products**: Contains product metadata including categories\n",
    "- **Customers**: Contains customer geographic information\n",
    "- **Reviews**: Contains customer feedback and ratings"
   ]
  },
  {
   "cell_type": "markdown",
   "id": "427020b5",
   "metadata": {},
   "source": [
    "## 1. Introduction & Business Objectives {#introduction}\n",
    "\n",
    "### Business Questions This Analysis Addresses:\n",
    "\n",
    "1. **Revenue Performance**: How is our revenue trending over time? What is our growth rate compared to previous periods?\n",
    "2. **Product Strategy**: Which product categories are driving the most revenue? Where should we focus our efforts?\n",
    "3. **Geographic Expansion**: Which states/regions present the biggest opportunities for growth?\n",
    "4. **Customer Experience**: How satisfied are our customers? How does delivery speed impact satisfaction?\n",
    "5. **Operational Efficiency**: What is our order fulfillment performance? Are we meeting delivery expectations?\n",
    "\n",
    "### Analysis Configuration\n",
    "\n",
    "The analysis is designed to be flexible and configurable. You can easily change the analysis period by modifying the variables below:"
   ]
  },
  {
   "cell_type": "code",
   "execution_count": 1,
   "id": "41e00645",
   "metadata": {},
   "outputs": [
    {
     "name": "stdout",
     "output_type": "stream",
     "text": [
      "Analysis Period: 2023 (Full Year)\n",
      "Comparison Period: 2022 (Full Year)\n",
      "Order Status Filter: delivered\n"
     ]
    }
   ],
   "source": [
    "# Analysis Configuration\n",
    "# Modify these variables to change the analysis period\n",
    "\n",
    "CURRENT_YEAR = 2023\n",
    "COMPARISON_YEAR = 2022\n",
    "CURRENT_MONTH_START = 1  # January (set to None for full year)\n",
    "CURRENT_MONTH_END = 12   # December (set to None for full year)\n",
    "\n",
    "# Analysis parameters\n",
    "TOP_N_CATEGORIES = 10\n",
    "TOP_N_STATES = 15\n",
    "ORDER_STATUS_FILTER = 'delivered'  # Focus on completed orders\n",
    "\n",
    "print(f\"Analysis Period: {CURRENT_YEAR} (Full Year)\")\n",
    "print(f\"Comparison Period: {COMPARISON_YEAR} (Full Year)\")\n",
    "print(f\"Order Status Filter: {ORDER_STATUS_FILTER}\")"
   ]
  },
  {
   "cell_type": "markdown",
   "id": "af62996b",
   "metadata": {},
   "source": [
    "## 2. Data Loading & Configuration {#data-loading}\n",
    "\n",
    "We use a custom data loader module that handles all data loading, cleaning, and initial processing. This ensures consistent data handling across different analyses."
   ]
  },
  {
   "cell_type": "code",
   "execution_count": 2,
   "id": "7224db7a",
   "metadata": {},
   "outputs": [
    {
     "name": "stdout",
     "output_type": "stream",
     "text": [
      "Libraries imported successfully\n",
      "Pandas version: 2.3.2\n",
      "Analysis date: 2025-09-12 17:31:49\n"
     ]
    }
   ],
   "source": [
    "# Import required libraries\n",
    "import pandas as pd\n",
    "import numpy as np\n",
    "import matplotlib.pyplot as plt\n",
    "import seaborn as sns\n",
    "import plotly.express as px\n",
    "import plotly.graph_objects as go\n",
    "from datetime import datetime\n",
    "import warnings\n",
    "\n",
    "# Import custom modules\n",
    "from data_loader import EcommerceDataLoader, get_data_dictionary\n",
    "from business_metrics import BusinessMetrics\n",
    "\n",
    "# Configure display settings\n",
    "pd.set_option('display.max_columns', None)\n",
    "pd.set_option('display.max_rows', 100)\n",
    "warnings.filterwarnings('ignore')\n",
    "\n",
    "print(\"Libraries imported successfully\")\n",
    "print(f\"Pandas version: {pd.__version__}\")\n",
    "print(f\"Analysis date: {datetime.now().strftime('%Y-%m-%d %H:%M:%S')}\")"
   ]
  },
  {
   "cell_type": "code",
   "execution_count": 3,
   "id": "89971819",
   "metadata": {},
   "outputs": [
    {
     "name": "stdout",
     "output_type": "stream",
     "text": [
      "Loading datasets...\n",
      "\n",
      "ORDERS Dataset:\n",
      "  Shape: (10000, 12)\n",
      "  Memory usage: 3.06 MB\n",
      "  Columns: order_id, customer_id, order_status, order_purchase_timestamp, order_approved_at...\n",
      "\n",
      "ORDER_ITEMS Dataset:\n",
      "  Shape: (16047, 7)\n",
      "  Memory usage: 4.06 MB\n",
      "  Columns: order_id, order_item_id, product_id, seller_id, shipping_limit_date...\n",
      "\n",
      "PRODUCTS Dataset:\n",
      "  Shape: (6000, 9)\n",
      "  Memory usage: 1.13 MB\n",
      "  Columns: product_id, product_category_name, product_name_length, product_description_length, product_photos_qty...\n",
      "\n",
      "CUSTOMERS Dataset:\n",
      "  Shape: (8000, 5)\n",
      "  Memory usage: 2.08 MB\n",
      "  Columns: customer_id, customer_unique_id, customer_zip_code_prefix, customer_city, customer_state\n",
      "\n",
      "REVIEWS Dataset:\n",
      "  Shape: (6571, 7)\n",
      "  Memory usage: 2.32 MB\n",
      "  Columns: review_id, order_id, review_score, review_comment_title, review_comment_message...\n"
     ]
    }
   ],
   "source": [
    "# Initialize data loader\n",
    "data_loader = EcommerceDataLoader(data_path='ecommerce_data/')\n",
    "\n",
    "# Load all datasets\n",
    "print(\"Loading datasets...\")\n",
    "datasets = data_loader.load_all_datasets()\n",
    "\n",
    "# Display dataset information\n",
    "dataset_info = data_loader.get_dataset_info()\n",
    "for name, info in dataset_info.items():\n",
    "    print(f\"\\n{name.upper()} Dataset:\")\n",
    "    print(f\"  Shape: {info['shape']}\")\n",
    "    print(f\"  Memory usage: {info['memory_usage']}\")\n",
    "    print(f\"  Columns: {', '.join(info['columns'][:5])}{'...' if len(info['columns']) > 5 else ''}\")"
   ]
  },
  {
   "cell_type": "markdown",
   "id": "1ea40c2a",
   "metadata": {},
   "source": [
    "## 3. Data Preparation & Transformation {#data-preparation}\n",
    "\n",
    "We create consolidated datasets optimized for business analysis. The data preparation includes:\n",
    "- Merging relevant tables\n",
    "- Adding calculated fields (delivery metrics, time dimensions)\n",
    "- Filtering for specified date ranges\n",
    "- Handling data quality issues"
   ]
  },
  {
   "cell_type": "code",
   "execution_count": 4,
   "id": "cc22a4b9",
   "metadata": {},
   "outputs": [
    {
     "name": "stdout",
     "output_type": "stream",
     "text": [
      "Creating consolidated sales dataset...\n",
      "Complete sales dataset shape: (15095, 20)\n",
      "Date range: 2021-12-31 16:55:08.451178 to 2024-01-01 04:12:51.260674\n",
      "Total revenue in dataset: $6,806,626.83\n",
      "\n",
      "Sample of complete sales dataset:\n"
     ]
    },
    {
     "data": {
      "text/html": [
       "<div>\n",
       "<style scoped>\n",
       "    .dataframe tbody tr th:only-of-type {\n",
       "        vertical-align: middle;\n",
       "    }\n",
       "\n",
       "    .dataframe tbody tr th {\n",
       "        vertical-align: top;\n",
       "    }\n",
       "\n",
       "    .dataframe thead th {\n",
       "        text-align: right;\n",
       "    }\n",
       "</style>\n",
       "<table border=\"1\" class=\"dataframe\">\n",
       "  <thead>\n",
       "    <tr style=\"text-align: right;\">\n",
       "      <th></th>\n",
       "      <th>order_id</th>\n",
       "      <th>order_item_id</th>\n",
       "      <th>product_id</th>\n",
       "      <th>price</th>\n",
       "      <th>freight_value</th>\n",
       "      <th>customer_id</th>\n",
       "      <th>order_status</th>\n",
       "      <th>order_purchase_timestamp</th>\n",
       "      <th>order_delivered_customer_date</th>\n",
       "      <th>year</th>\n",
       "      <th>month</th>\n",
       "      <th>quarter</th>\n",
       "      <th>day_of_week</th>\n",
       "      <th>total_revenue</th>\n",
       "      <th>product_category_name</th>\n",
       "      <th>customer_state</th>\n",
       "      <th>customer_city</th>\n",
       "      <th>review_score</th>\n",
       "      <th>delivery_days</th>\n",
       "      <th>delivery_category</th>\n",
       "    </tr>\n",
       "  </thead>\n",
       "  <tbody>\n",
       "    <tr>\n",
       "      <th>0</th>\n",
       "      <td>ord_5fa044951857e02fd1347b47</td>\n",
       "      <td>1</td>\n",
       "      <td>prod_9b6f1793388ae983f852d189</td>\n",
       "      <td>111.91</td>\n",
       "      <td>9.50</td>\n",
       "      <td>cust_2d36e4b647be13c15df550af</td>\n",
       "      <td>delivered</td>\n",
       "      <td>2023-04-24 13:05:32.579655</td>\n",
       "      <td>2023-05-01 02:05:32.579655</td>\n",
       "      <td>2023</td>\n",
       "      <td>4</td>\n",
       "      <td>2</td>\n",
       "      <td>Monday</td>\n",
       "      <td>121.41</td>\n",
       "      <td>grocery_gourmet_food</td>\n",
       "      <td>TN</td>\n",
       "      <td>Knoxville</td>\n",
       "      <td>5.0</td>\n",
       "      <td>6</td>\n",
       "      <td>4-7 days</td>\n",
       "    </tr>\n",
       "    <tr>\n",
       "      <th>1</th>\n",
       "      <td>ord_5fa044951857e02fd1347b47</td>\n",
       "      <td>2</td>\n",
       "      <td>prod_c7b5997a4d0061a9f50e874c</td>\n",
       "      <td>878.42</td>\n",
       "      <td>77.50</td>\n",
       "      <td>cust_2d36e4b647be13c15df550af</td>\n",
       "      <td>delivered</td>\n",
       "      <td>2023-04-24 13:05:32.579655</td>\n",
       "      <td>2023-05-01 02:05:32.579655</td>\n",
       "      <td>2023</td>\n",
       "      <td>4</td>\n",
       "      <td>2</td>\n",
       "      <td>Monday</td>\n",
       "      <td>955.92</td>\n",
       "      <td>electronics</td>\n",
       "      <td>TN</td>\n",
       "      <td>Knoxville</td>\n",
       "      <td>5.0</td>\n",
       "      <td>6</td>\n",
       "      <td>4-7 days</td>\n",
       "    </tr>\n",
       "    <tr>\n",
       "      <th>2</th>\n",
       "      <td>ord_0a02a8a1d3d282380ed7d0cc</td>\n",
       "      <td>1</td>\n",
       "      <td>prod_d5f7b6e420ea5cffc504ab21</td>\n",
       "      <td>1030.31</td>\n",
       "      <td>15.47</td>\n",
       "      <td>cust_157f0ea0316c546ac08dae30</td>\n",
       "      <td>delivered</td>\n",
       "      <td>2022-05-15 07:51:22.471390</td>\n",
       "      <td>2022-05-23 01:51:22.471390</td>\n",
       "      <td>2022</td>\n",
       "      <td>5</td>\n",
       "      <td>2</td>\n",
       "      <td>Sunday</td>\n",
       "      <td>1045.78</td>\n",
       "      <td>home_garden</td>\n",
       "      <td>IL</td>\n",
       "      <td>Rockford</td>\n",
       "      <td>NaN</td>\n",
       "      <td>7</td>\n",
       "      <td>4-7 days</td>\n",
       "    </tr>\n",
       "    <tr>\n",
       "      <th>3</th>\n",
       "      <td>ord_0a02a8a1d3d282380ed7d0cc</td>\n",
       "      <td>2</td>\n",
       "      <td>prod_01b00f21c2758bf94f51234f</td>\n",
       "      <td>1299.50</td>\n",
       "      <td>232.29</td>\n",
       "      <td>cust_157f0ea0316c546ac08dae30</td>\n",
       "      <td>delivered</td>\n",
       "      <td>2022-05-15 07:51:22.471390</td>\n",
       "      <td>2022-05-23 01:51:22.471390</td>\n",
       "      <td>2022</td>\n",
       "      <td>5</td>\n",
       "      <td>2</td>\n",
       "      <td>Sunday</td>\n",
       "      <td>1531.79</td>\n",
       "      <td>home_garden</td>\n",
       "      <td>IL</td>\n",
       "      <td>Rockford</td>\n",
       "      <td>NaN</td>\n",
       "      <td>7</td>\n",
       "      <td>4-7 days</td>\n",
       "    </tr>\n",
       "    <tr>\n",
       "      <th>4</th>\n",
       "      <td>ord_8a243422e3ad7ab97a1fe175</td>\n",
       "      <td>1</td>\n",
       "      <td>prod_a904d724d4b2b8f571e66f19</td>\n",
       "      <td>1307.04</td>\n",
       "      <td>55.16</td>\n",
       "      <td>cust_bd21648bc4c95ae7aad6bda7</td>\n",
       "      <td>delivered</td>\n",
       "      <td>2022-04-18 15:02:44.122280</td>\n",
       "      <td>2022-04-30 16:02:44.122280</td>\n",
       "      <td>2022</td>\n",
       "      <td>4</td>\n",
       "      <td>2</td>\n",
       "      <td>Monday</td>\n",
       "      <td>1362.20</td>\n",
       "      <td>home_garden</td>\n",
       "      <td>MI</td>\n",
       "      <td>Detroit</td>\n",
       "      <td>3.0</td>\n",
       "      <td>12</td>\n",
       "      <td>8+ days</td>\n",
       "    </tr>\n",
       "  </tbody>\n",
       "</table>\n",
       "</div>"
      ],
      "text/plain": [
       "                       order_id  order_item_id                     product_id  \\\n",
       "0  ord_5fa044951857e02fd1347b47              1  prod_9b6f1793388ae983f852d189   \n",
       "1  ord_5fa044951857e02fd1347b47              2  prod_c7b5997a4d0061a9f50e874c   \n",
       "2  ord_0a02a8a1d3d282380ed7d0cc              1  prod_d5f7b6e420ea5cffc504ab21   \n",
       "3  ord_0a02a8a1d3d282380ed7d0cc              2  prod_01b00f21c2758bf94f51234f   \n",
       "4  ord_8a243422e3ad7ab97a1fe175              1  prod_a904d724d4b2b8f571e66f19   \n",
       "\n",
       "     price  freight_value                    customer_id order_status  \\\n",
       "0   111.91           9.50  cust_2d36e4b647be13c15df550af    delivered   \n",
       "1   878.42          77.50  cust_2d36e4b647be13c15df550af    delivered   \n",
       "2  1030.31          15.47  cust_157f0ea0316c546ac08dae30    delivered   \n",
       "3  1299.50         232.29  cust_157f0ea0316c546ac08dae30    delivered   \n",
       "4  1307.04          55.16  cust_bd21648bc4c95ae7aad6bda7    delivered   \n",
       "\n",
       "    order_purchase_timestamp order_delivered_customer_date  year  month  \\\n",
       "0 2023-04-24 13:05:32.579655    2023-05-01 02:05:32.579655  2023      4   \n",
       "1 2023-04-24 13:05:32.579655    2023-05-01 02:05:32.579655  2023      4   \n",
       "2 2022-05-15 07:51:22.471390    2022-05-23 01:51:22.471390  2022      5   \n",
       "3 2022-05-15 07:51:22.471390    2022-05-23 01:51:22.471390  2022      5   \n",
       "4 2022-04-18 15:02:44.122280    2022-04-30 16:02:44.122280  2022      4   \n",
       "\n",
       "   quarter day_of_week  total_revenue product_category_name customer_state  \\\n",
       "0        2      Monday         121.41  grocery_gourmet_food             TN   \n",
       "1        2      Monday         955.92           electronics             TN   \n",
       "2        2      Sunday        1045.78           home_garden             IL   \n",
       "3        2      Sunday        1531.79           home_garden             IL   \n",
       "4        2      Monday        1362.20           home_garden             MI   \n",
       "\n",
       "  customer_city  review_score  delivery_days delivery_category  \n",
       "0     Knoxville           5.0              6          4-7 days  \n",
       "1     Knoxville           5.0              6          4-7 days  \n",
       "2      Rockford           NaN              7          4-7 days  \n",
       "3      Rockford           NaN              7          4-7 days  \n",
       "4       Detroit           3.0             12           8+ days  "
      ]
     },
     "execution_count": 4,
     "metadata": {},
     "output_type": "execute_result"
    }
   ],
   "source": [
    "# Create complete sales dataset with all enrichment\n",
    "print(\"Creating consolidated sales dataset...\")\n",
    "complete_sales_data = data_loader.create_complete_sales_dataset(status_filter=ORDER_STATUS_FILTER)\n",
    "\n",
    "print(f\"Complete sales dataset shape: {complete_sales_data.shape}\")\n",
    "print(f\"Date range: {complete_sales_data['order_purchase_timestamp'].min()} to {complete_sales_data['order_purchase_timestamp'].max()}\")\n",
    "print(f\"Total revenue in dataset: ${complete_sales_data['price'].sum():,.2f}\")\n",
    "\n",
    "# Display sample of the complete dataset\n",
    "print(\"\\nSample of complete sales dataset:\")\n",
    "complete_sales_data.head()"
   ]
  },
  {
   "cell_type": "code",
   "execution_count": 5,
   "id": "0e91cee6",
   "metadata": {},
   "outputs": [
    {
     "name": "stdout",
     "output_type": "stream",
     "text": [
      "Current period (2023) data shape: (7448, 20)\n",
      "Comparison period (2022) data shape: (7641, 20)\n",
      "\n",
      "Current period revenue: $3,360,294.74\n",
      "Comparison period revenue: $3,445,076.96\n"
     ]
    }
   ],
   "source": [
    "# Filter data for current analysis period\n",
    "current_period_data = data_loader.filter_by_date_range(\n",
    "    complete_sales_data, \n",
    "    start_year=CURRENT_YEAR, \n",
    "    end_year=CURRENT_YEAR,\n",
    "    start_month=CURRENT_MONTH_START,\n",
    "    end_month=CURRENT_MONTH_END\n",
    ")\n",
    "\n",
    "# Filter data for comparison period\n",
    "comparison_period_data = data_loader.filter_by_date_range(\n",
    "    complete_sales_data,\n",
    "    start_year=COMPARISON_YEAR,\n",
    "    end_year=COMPARISON_YEAR,\n",
    "    start_month=CURRENT_MONTH_START,\n",
    "    end_month=CURRENT_MONTH_END\n",
    ")\n",
    "\n",
    "print(f\"Current period ({CURRENT_YEAR}) data shape: {current_period_data.shape}\")\n",
    "print(f\"Comparison period ({COMPARISON_YEAR}) data shape: {comparison_period_data.shape}\")\n",
    "print(f\"\\nCurrent period revenue: ${current_period_data['price'].sum():,.2f}\")\n",
    "print(f\"Comparison period revenue: ${comparison_period_data['price'].sum():,.2f}\")"
   ]
  },
  {
   "cell_type": "markdown",
   "id": "ce205188",
   "metadata": {},
   "source": [
    "## 4. Business Metrics Analysis {#business-metrics}\n",
    "\n",
    "This section contains comprehensive business analysis using our custom metrics calculation framework. All metrics are calculated using reusable functions that can be applied to any time period."
   ]
  },
  {
   "cell_type": "code",
   "execution_count": 6,
   "id": "eb671b5f",
   "metadata": {},
   "outputs": [
    {
     "name": "stdout",
     "output_type": "stream",
     "text": [
      "Business metrics calculator initialized successfully\n",
      "Analysis ready for 7,448 transactions\n"
     ]
    }
   ],
   "source": [
    "# Initialize business metrics calculator\n",
    "metrics_calculator = BusinessMetrics(current_period_data)\n",
    "\n",
    "print(\"Business metrics calculator initialized successfully\")\n",
    "print(f\"Analysis ready for {len(current_period_data):,} transactions\")"
   ]
  },
  {
   "cell_type": "markdown",
   "id": "22e2ba8e",
   "metadata": {},
   "source": [
    "### 4.1 Revenue Performance Analysis {#revenue-analysis}\n",
    "\n",
    "This section analyzes overall revenue performance, growth trends, and key performance indicators."
   ]
  },
  {
   "cell_type": "code",
   "execution_count": 7,
   "id": "f7833b51",
   "metadata": {},
   "outputs": [
    {
     "name": "stdout",
     "output_type": "stream",
     "text": [
      "\n",
      "EXECUTIVE SUMMARY - 2023 Full Year\n",
      "\n",
      "Key Performance Indicators:\n",
      "- Total Revenue: $3,360,294.74\n",
      "- Total Orders: 4,635\n",
      "- Average Order Value: $724.98\n",
      "- Average Item Price: $451.17\n",
      "\n",
      "Year-over-Year Performance:\n",
      "- Revenue Growth: -2.46% 📉\n",
      "- Order Growth: -2.40%\n",
      "- AOV Growth: -0.06%\n",
      "\n"
     ]
    }
   ],
   "source": [
    "# Calculate comprehensive revenue metrics\n",
    "current_metrics = metrics_calculator.calculate_revenue_metrics(\n",
    "    current_period_data, \n",
    "    comparison_period_data, \n",
    "    f\"{CURRENT_YEAR} Full Year\"\n",
    ")\n",
    "\n",
    "comparison_metrics = metrics_calculator.calculate_revenue_metrics(\n",
    "    comparison_period_data, \n",
    "    period_label=f\"{COMPARISON_YEAR} Full Year\"\n",
    ")\n",
    "\n",
    "# Display executive summary\n",
    "executive_summary = metrics_calculator.generate_executive_summary(current_metrics, comparison_metrics)\n",
    "print(executive_summary)"
   ]
  },
  {
   "cell_type": "code",
   "execution_count": 8,
   "id": "51e68f49",
   "metadata": {},
   "outputs": [
    {
     "name": "stdout",
     "output_type": "stream",
     "text": [
      "Monthly Revenue Trends for 2023:\n",
      "   month_name      price  revenue_growth\n",
      "0         Jan  284855.48             NaN\n",
      "1         Feb  276758.54           -2.84\n",
      "2         Mar  285618.77            3.20\n",
      "3         Apr  253794.62          -11.14\n",
      "4         May  301347.96           18.74\n",
      "5         Jun  289126.72           -4.06\n",
      "6         Jul  296209.39            2.45\n",
      "7         Aug  286645.60           -3.23\n",
      "8         Sep  303793.15            5.98\n",
      "9         Oct  259890.15          -14.45\n",
      "10        Nov  259518.93           -0.14\n",
      "11        Dec  262735.43            1.24\n",
      "\n",
      "Average monthly growth rate: -0.39%\n"
     ]
    }
   ],
   "source": [
    "# Calculate and visualize monthly growth trends\n",
    "monthly_trends = metrics_calculator.calculate_monthly_growth_trend(current_period_data, CURRENT_YEAR)\n",
    "\n",
    "print(f\"Monthly Revenue Trends for {CURRENT_YEAR}:\")\n",
    "print(monthly_trends[['month_name', 'price', 'revenue_growth']].round(2))\n",
    "\n",
    "# Calculate average monthly growth\n",
    "avg_monthly_growth = monthly_trends['revenue_growth'].mean()\n",
    "print(f\"\\nAverage monthly growth rate: {avg_monthly_growth:.2f}%\")"
   ]
  },
  {
   "cell_type": "code",
   "execution_count": 9,
   "id": "5042fa96",
   "metadata": {},
   "outputs": [
    {
     "data": {
      "image/png": "[encoded data removed]",
      "text/plain": [
       "<Figure size 1200x600 with 1 Axes>"
      ]
     },
     "metadata": {},
     "output_type": "display_data"
    },
    {
     "name": "stdout",
     "output_type": "stream",
     "text": [
      "\n",
      "Insights:\n",
      "Best performing month: Sep ($303,793.15)\n",
      "Lowest performing month: Apr ($253,794.62)\n"
     ]
    }
   ],
   "source": [
    "# Create revenue trend visualization\n",
    "revenue_trend_fig = metrics_calculator.create_revenue_trend_plot(\n",
    "    monthly_trends, \n",
    "    f\"Monthly Revenue Trend - {CURRENT_YEAR}\"\n",
    ")\n",
    "plt.show()\n",
    "\n",
    "# Additional insights\n",
    "best_month = monthly_trends.loc[monthly_trends['price'].idxmax(), 'month_name']\n",
    "worst_month = monthly_trends.loc[monthly_trends['price'].idxmin(), 'month_name']\n",
    "print(f\"\\nInsights:\")\n",
    "print(f\"Best performing month: {best_month} (${monthly_trends['price'].max():,.2f})\")\n",
    "print(f\"Lowest performing month: {worst_month} (${monthly_trends['price'].min():,.2f})\")"
   ]
  },
  {
   "cell_type": "markdown",
   "id": "da41b4d4",
   "metadata": {},
   "source": [
    "### 4.2 Product Category Performance {#category-analysis}\n",
    "\n",
    "Analysis of product category performance to identify top-performing categories and growth opportunities."
   ]
  },
  {
   "cell_type": "code",
   "execution_count": 10,
   "id": "e04cb4a4",
   "metadata": {},
   "outputs": [
    {
     "name": "stdout",
     "output_type": "stream",
     "text": [
      "Top 10 Product Categories by Revenue (2023):\n",
      "                        total_revenue  avg_item_price  total_items  \\\n",
      "product_category_name                                                \n",
      "electronics                1401359.21         1056.04         1327   \n",
      "home_garden                 862653.27          750.79         1149   \n",
      "sports_outdoors             278845.32          406.48          686   \n",
      "automotive                  247707.10          506.56          489   \n",
      "clothing_shoes_jewelry      232745.04          263.29          884   \n",
      "toys_games                   70163.64          147.40          476   \n",
      "health_personal_care         65370.27          103.76          630   \n",
      "tools_home_improvement       54280.33          247.86          219   \n",
      "beauty_personal_care         49213.30          156.23          315   \n",
      "books_media                  38559.08           53.18          725   \n",
      "\n",
      "                        total_orders  unique_customers  avg_order_value  \\\n",
      "product_category_name                                                     \n",
      "electronics                     1227              1121          1142.10   \n",
      "home_garden                     1045               965           825.51   \n",
      "sports_outdoors                  645               622           432.32   \n",
      "automotive                       473               463           523.69   \n",
      "clothing_shoes_jewelry           828               792           281.09   \n",
      "toys_games                       461               442           152.20   \n",
      "health_personal_care             613               587           106.64   \n",
      "tools_home_improvement           213               210           254.84   \n",
      "beauty_personal_care             309               303           159.27   \n",
      "books_media                      687               658            56.13   \n",
      "\n",
      "                        revenue_share  \n",
      "product_category_name                  \n",
      "electronics                     41.70  \n",
      "home_garden                     25.67  \n",
      "sports_outdoors                  8.30  \n",
      "automotive                       7.37  \n",
      "clothing_shoes_jewelry           6.93  \n",
      "toys_games                       2.09  \n",
      "health_personal_care             1.95  \n",
      "tools_home_improvement           1.62  \n",
      "beauty_personal_care             1.46  \n",
      "books_media                      1.15  \n"
     ]
    }
   ],
   "source": [
    "# Analyze product category performance\n",
    "category_performance = metrics_calculator.analyze_product_categories(\n",
    "    current_period_data, \n",
    "    top_n=TOP_N_CATEGORIES\n",
    ")\n",
    "\n",
    "print(f\"Top {TOP_N_CATEGORIES} Product Categories by Revenue ({CURRENT_YEAR}):\")\n",
    "print(category_performance)"
   ]
  },
  {
   "cell_type": "code",
   "execution_count": 11,
   "id": "337ace49",
   "metadata": {},
   "outputs": [
    {
     "data": {
      "image/png": "[encoded data removed]",
      "text/plain": [
       "<Figure size 1200x800 with 1 Axes>"
      ]
     },
     "metadata": {},
     "output_type": "display_data"
    },
    {
     "name": "stdout",
     "output_type": "stream",
     "text": [
      "\n",
      "Category Insights:\n",
      "Top category: electronics\n",
      "Revenue: $1,401,359.21 (41.7% of total)\n",
      "Number of categories analyzed: 10\n"
     ]
    }
   ],
   "source": [
    "# Create category performance visualization\n",
    "category_plot = metrics_calculator.create_category_performance_plot(\n",
    "    category_performance, \n",
    "    f\"Top {TOP_N_CATEGORIES} Product Categories by Revenue - {CURRENT_YEAR}\"\n",
    ")\n",
    "plt.show()\n",
    "\n",
    "# Category insights\n",
    "top_category = category_performance.index[0]\n",
    "top_category_revenue = category_performance.iloc[0]['total_revenue']\n",
    "top_category_share = category_performance.iloc[0]['revenue_share']\n",
    "\n",
    "print(f\"\\nCategory Insights:\")\n",
    "print(f\"Top category: {top_category}\")\n",
    "print(f\"Revenue: ${top_category_revenue:,.2f} ({top_category_share:.1f}% of total)\")\n",
    "print(f\"Number of categories analyzed: {len(category_performance)}\")"
   ]
  },
  {
   "cell_type": "markdown",
   "id": "d156d399",
   "metadata": {},
   "source": [
    "### 4.3 Geographic Performance Analysis {#geographic-analysis}\n",
    "\n",
    "Analysis of sales performance across different states to identify geographic opportunities and trends."
   ]
  },
  {
   "cell_type": "code",
   "execution_count": 12,
   "id": "5364c166",
   "metadata": {},
   "outputs": [
    {
     "name": "stdout",
     "output_type": "stream",
     "text": [
      "Top 15 States by Revenue (2023):\n",
      "                total_revenue  avg_item_price  total_orders  unique_customers  \\\n",
      "customer_state                                                                  \n",
      "CA                  537880.74          438.73           769               582   \n",
      "TX                  403303.49          464.10           561               438   \n",
      "FL                  310195.84          438.75           431               332   \n",
      "NY                  253111.85          400.49           384               286   \n",
      "IL                  185930.89          460.22           260               190   \n",
      "PA                  173260.68          493.62           225               172   \n",
      "OH                  157619.72          464.95           200               151   \n",
      "GA                  146414.65          478.48           190               145   \n",
      "MI                  132325.60          405.91           210               164   \n",
      "NC                  128314.74          444.00           177               135   \n",
      "NJ                  127437.56          477.29           158               120   \n",
      "VA                  105240.99          444.05           148               106   \n",
      "MA                  103111.13          470.83           135               107   \n",
      "AZ                  100109.15          478.99           130               101   \n",
      "WA                   95130.67          444.54           137               106   \n",
      "\n",
      "                avg_order_value  revenue_share  \n",
      "customer_state                                  \n",
      "CA                       699.45          16.01  \n",
      "TX                       718.90          12.00  \n",
      "FL                       719.71           9.23  \n",
      "NY                       659.15           7.53  \n",
      "IL                       715.12           5.53  \n",
      "PA                       770.05           5.16  \n",
      "OH                       788.10           4.69  \n",
      "GA                       770.60           4.36  \n",
      "MI                       630.12           3.94  \n",
      "NC                       724.94           3.82  \n",
      "NJ                       806.57           3.79  \n",
      "VA                       711.09           3.13  \n",
      "MA                       763.79           3.07  \n",
      "AZ                       770.07           2.98  \n",
      "WA                       694.38           2.83  \n"
     ]
    }
   ],
   "source": [
    "# Analyze geographic performance\n",
    "geographic_performance = metrics_calculator.analyze_geographic_performance(\n",
    "    current_period_data, \n",
    "    top_n=TOP_N_STATES\n",
    ")\n",
    "\n",
    "print(f\"Top {TOP_N_STATES} States by Revenue ({CURRENT_YEAR}):\")\n",
    "print(geographic_performance)"
   ]
  },
  {
   "cell_type": "code",
   "execution_count": 13,
   "id": "8d54e7d5",
   "metadata": {},
   "outputs": [
    {
     "data": {
      "application/vnd.plotly.v1+json": {
       "config": {
        "plotlyServerURL": "https://plot.ly"
       },
       "data": [
        {
         "coloraxis": "coloraxis",
         "geo": "geo",
         "hovertemplate": "customer_state=%{location}<br>Total Revenue (USD)=%{z}<extra></extra>",
         "locationmode": "USA-states",
         "locations": [
          "CA",
          "TX",
          "FL",
          "NY",
          "IL",
          "PA",
          "OH",
          "GA",
          "MI",
          "NC",
          "NJ",
          "VA",
          "MA",
          "AZ",
          "WA"
         ],
         "name": "",
         "type": "choropleth",
         "z": {
          "bdata": "rkfhejFqIEFcj8L1nZ0YQcP1KFzP7hJBzczMzL7lDkHsUbgeV7IGQQrXo3BlJgVBKVyPwp09A0EzMzMzdd8BQc3MzMwsJwBBcT0K16tT/0Bcj8L12Bz/QHE9CtePsflASOF6FHIs+UBmZmZm0nD4QIXrUbiqOfdA",
          "dtype": "f8"
         }
        }
       ],
       "layout": {
        "coloraxis": {
         "colorbar": {
          "title": {
           "text": "Total Revenue (USD)"
          }
         },
         "colorscale": [
          [
           0,
           "rgb(247,251,255)"
          ],
          [
           0.125,
           "rgb(222,235,247)"
          ],
          [
           0.25,
           "rgb(198,219,239)"
          ],
          [
           0.375,
           "rgb(158,202,225)"
          ],
          [
           0.5,
           "rgb(107,174,214)"
          ],
          [
           0.625,
           "rgb(66,146,198)"
          ],
          [
           0.75,
           "rgb(33,113,181)"
          ],
          [
           0.875,
           "rgb(8,81,156)"
          ],
          [
           1,
           "rgb(8,48,107)"
          ]
         ]
        },
        "geo": {
         "bgcolor": "rgba(0,0,0,0)",
         "center": {},
         "domain": {
          "x": [
           0,
           1
          ],
          "y": [
           0,
           1
          ]
         },
         "scope": "usa"
        },
        "legend": {
         "tracegroupgap": 0
        },
        "template": {
         "data": {
          "bar": [
           {
            "error_x": {
             "color": "#2a3f5f"
            },
            "error_y": {
             "color": "#2a3f5f"
            },
            "marker": {
             "line": {
              "color": "#E5ECF6",
              "width": 0.5
             },
             "pattern": {
              "fillmode": "overlay",
              "size": 10,
              "solidity": 0.2
             }
            },
            "type": "bar"
           }
          ],
          "barpolar": [
           {
            "marker": {
             "line": {
              "color": "#E5ECF6",
              "width": 0.5
             },
             "pattern": {
              "fillmode": "overlay",
              "size": 10,
              "solidity": 0.2
             }
            },
            "type": "barpolar"
           }
          ],
          "carpet": [
           {
            "aaxis": {
             "endlinecolor": "#2a3f5f",
             "gridcolor": "white",
             "linecolor": "white",
             "minorgridcolor": "white",
             "startlinecolor": "#2a3f5f"
            },
            "baxis": {
             "endlinecolor": "#2a3f5f",
             "gridcolor": "white",
             "linecolor": "white",
             "minorgridcolor": "white",
             "startlinecolor": "#2a3f5f"
            },
            "type": "carpet"
           }
          ],
          "choropleth": [
           {
            "colorbar": {
             "outlinewidth": 0,
             "ticks": ""
            },
            "type": "choropleth"
           }
          ],
          "contour": [
           {
            "colorbar": {
             "outlinewidth": 0,
             "ticks": ""
            },
            "colorscale": [
             [
              0,
              "#0d0887"
             ],
             [
              0.1111111111111111,
              "#46039f"
             ],
             [
              0.2222222222222222,
              "#7201a8"
             ],
             [
              0.3333333333333333,
              "#9c179e"
             ],
             [
              0.4444444444444444,
              "#bd3786"
             ],
             [
              0.5555555555555556,
              "#d8576b"
             ],
             [
              0.6666666666666666,
              "#ed7953"
             ],
             [
              0.7777777777777778,
              "#fb9f3a"
             ],
             [
              0.8888888888888888,
              "#fdca26"
             ],
             [
              1,
              "#f0f921"
             ]
            ],
            "type": "contour"
           }
          ],
          "contourcarpet": [
           {
            "colorbar": {
             "outlinewidth": 0,
             "ticks": ""
            },
            "type": "contourcarpet"
           }
          ],
          "heatmap": [
           {
            "colorbar": {
             "outlinewidth": 0,
             "ticks": ""
            },
            "colorscale": [
             [
              0,
              "#0d0887"
             ],
             [
              0.1111111111111111,
              "#46039f"
             ],
             [
              0.2222222222222222,
              "#7201a8"
             ],
             [
              0.3333333333333333,
              "#9c179e"
             ],
             [
              0.4444444444444444,
              "#bd3786"
             ],
             [
              0.5555555555555556,
              "#d8576b"
             ],
             [
              0.6666666666666666,
              "#ed7953"
             ],
             [
              0.7777777777777778,
              "#fb9f3a"
             ],
             [
              0.8888888888888888,
              "#fdca26"
             ],
             [
              1,
              "#f0f921"
             ]
            ],
            "type": "heatmap"
           }
          ],
          "histogram": [
           {
            "marker": {
             "pattern": {
              "fillmode": "overlay",
              "size": 10,
              "solidity": 0.2
             }
            },
            "type": "histogram"
           }
          ],
          "histogram2d": [
           {
            "colorbar": {
             "outlinewidth": 0,
             "ticks": ""
            },
            "colorscale": [
             [
              0,
              "#0d0887"
             ],
             [
              0.1111111111111111,
              "#46039f"
             ],
             [
              0.2222222222222222,
              "#7201a8"
             ],
             [
              0.3333333333333333,
              "#9c179e"
             ],
             [
              0.4444444444444444,
              "#bd3786"
             ],
             [
              0.5555555555555556,
              "#d8576b"
             ],
             [
              0.6666666666666666,
              "#ed7953"
             ],
             [
              0.7777777777777778,
              "#fb9f3a"
             ],
             [
              0.8888888888888888,
              "#fdca26"
             ],
             [
              1,
              "#f0f921"
             ]
            ],
            "type": "histogram2d"
           }
          ],
          "histogram2dcontour": [
           {
            "colorbar": {
             "outlinewidth": 0,
             "ticks": ""
            },
            "colorscale": [
             [
              0,
              "#0d0887"
             ],
             [
              0.1111111111111111,
              "#46039f"
             ],
             [
              0.2222222222222222,
              "#7201a8"
             ],
             [
              0.3333333333333333,
              "#9c179e"
             ],
             [
              0.4444444444444444,
              "#bd3786"
             ],
             [
              0.5555555555555556,
              "#d8576b"
             ],
             [
              0.6666666666666666,
              "#ed7953"
             ],
             [
              0.7777777777777778,
              "#fb9f3a"
             ],
             [
              0.8888888888888888,
              "#fdca26"
             ],
             [
              1,
              "#f0f921"
             ]
            ],
            "type": "histogram2dcontour"
           }
          ],
          "mesh3d": [
           {
            "colorbar": {
             "outlinewidth": 0,
             "ticks": ""
            },
            "type": "mesh3d"
           }
          ],
          "parcoords": [
           {
            "line": {
             "colorbar": {
              "outlinewidth": 0,
              "ticks": ""
             }
            },
            "type": "parcoords"
           }
          ],
          "pie": [
           {
            "automargin": true,
            "type": "pie"
           }
          ],
          "scatter": [
           {
            "fillpattern": {
             "fillmode": "overlay",
             "size": 10,
             "solidity": 0.2
            },
            "type": "scatter"
           }
          ],
          "scatter3d": [
           {
            "line": {
             "colorbar": {
              "outlinewidth": 0,
              "ticks": ""
             }
            },
            "marker": {
             "colorbar": {
              "outlinewidth": 0,
              "ticks": ""
             }
            },
            "type": "scatter3d"
           }
          ],
          "scattercarpet": [
           {
            "marker": {
             "colorbar": {
              "outlinewidth": 0,
              "ticks": ""
             }
            },
            "type": "scattercarpet"
           }
          ],
          "scattergeo": [
           {
            "marker": {
             "colorbar": {
              "outlinewidth": 0,
              "ticks": ""
             }
            },
            "type": "scattergeo"
           }
          ],
          "scattergl": [
           {
            "marker": {
             "colorbar": {
              "outlinewidth": 0,
              "ticks": ""
             }
            },
            "type": "scattergl"
           }
          ],
          "scattermap": [
           {
            "marker": {
             "colorbar": {
              "outlinewidth": 0,
              "ticks": ""
             }
            },
            "type": "scattermap"
           }
          ],
          "scattermapbox": [
           {
            "marker": {
             "colorbar": {
              "outlinewidth": 0,
              "ticks": ""
             }
            },
            "type": "scattermapbox"
           }
          ],
          "scatterpolar": [
           {
            "marker": {
             "colorbar": {
              "outlinewidth": 0,
              "ticks": ""
             }
            },
            "type": "scatterpolar"
           }
          ],
          "scatterpolargl": [
           {
            "marker": {
             "colorbar": {
              "outlinewidth": 0,
              "ticks": ""
             }
            },
            "type": "scatterpolargl"
           }
          ],
          "scatterternary": [
           {
            "marker": {
             "colorbar": {
              "outlinewidth": 0,
              "ticks": ""
             }
            },
            "type": "scatterternary"
           }
          ],
          "surface": [
           {
            "colorbar": {
             "outlinewidth": 0,
             "ticks": ""
            },
            "colorscale": [
             [
              0,
              "#0d0887"
             ],
             [
              0.1111111111111111,
              "#46039f"
             ],
             [
              0.2222222222222222,
              "#7201a8"
             ],
             [
              0.3333333333333333,
              "#9c179e"
             ],
             [
              0.4444444444444444,
              "#bd3786"
             ],
             [
              0.5555555555555556,
              "#d8576b"
             ],
             [
              0.6666666666666666,
              "#ed7953"
             ],
             [
              0.7777777777777778,
              "#fb9f3a"
             ],
             [
              0.8888888888888888,
              "#fdca26"
             ],
             [
              1,
              "#f0f921"
             ]
            ],
            "type": "surface"
           }
          ],
          "table": [
           {
            "cells": {
             "fill": {
              "color": "#EBF0F8"
             },
             "line": {
              "color": "white"
             }
            },
            "header": {
             "fill": {
              "color": "#C8D4E3"
             },
             "line": {
              "color": "white"
             }
            },
            "type": "table"
           }
          ]
         },
         "layout": {
          "annotationdefaults": {
           "arrowcolor": "#2a3f5f",
           "arrowhead": 0,
           "arrowwidth": 1
          },
          "autotypenumbers": "strict",
          "coloraxis": {
           "colorbar": {
            "outlinewidth": 0,
            "ticks": ""
           }
          },
          "colorscale": {
           "diverging": [
            [
             0,
             "#8e0152"
            ],
            [
             0.1,
             "#c51b7d"
            ],
            [
             0.2,
             "#de77ae"
            ],
            [
             0.3,
             "#f1b6da"
            ],
            [
             0.4,
             "#fde0ef"
            ],
            [
             0.5,
             "#f7f7f7"
            ],
            [
             0.6,
             "#e6f5d0"
            ],
            [
             0.7,
             "#b8e186"
            ],
            [
             0.8,
             "#7fbc41"
            ],
            [
             0.9,
             "#4d9221"
            ],
            [
             1,
             "#276419"
            ]
           ],
           "sequential": [
            [
             0,
             "#0d0887"
            ],
            [
             0.1111111111111111,
             "#46039f"
            ],
            [
             0.2222222222222222,
             "#7201a8"
            ],
            [
             0.3333333333333333,
             "#9c179e"
            ],
            [
             0.4444444444444444,
             "#bd3786"
            ],
            [
             0.5555555555555556,
             "#d8576b"
            ],
            [
             0.6666666666666666,
             "#ed7953"
            ],
            [
             0.7777777777777778,
             "#fb9f3a"
            ],
            [
             0.8888888888888888,
             "#fdca26"
            ],
            [
             1,
             "#f0f921"
            ]
           ],
           "sequentialminus": [
            [
             0,
             "#0d0887"
            ],
            [
             0.1111111111111111,
             "#46039f"
            ],
            [
             0.2222222222222222,
             "#7201a8"
            ],
            [
             0.3333333333333333,
             "#9c179e"
            ],
            [
             0.4444444444444444,
             "#bd3786"
            ],
            [
             0.5555555555555556,
             "#d8576b"
            ],
            [
             0.6666666666666666,
             "#ed7953"
            ],
            [
             0.7777777777777778,
             "#fb9f3a"
            ],
            [
             0.8888888888888888,
             "#fdca26"
            ],
            [
             1,
             "#f0f921"
            ]
           ]
          },
          "colorway": [
           "#636efa",
           "#EF553B",
           "#00cc96",
           "#ab63fa",
           "#FFA15A",
           "#19d3f3",
           "#FF6692",
           "#B6E880",
           "#FF97FF",
           "#FECB52"
          ],
          "font": {
           "color": "#2a3f5f"
          },
          "geo": {
           "bgcolor": "white",
           "lakecolor": "white",
           "landcolor": "#E5ECF6",
           "showlakes": true,
           "showland": true,
           "subunitcolor": "white"
          },
          "hoverlabel": {
           "align": "left"
          },
          "hovermode": "closest",
          "mapbox": {
           "style": "light"
          },
          "paper_bgcolor": "white",
          "plot_bgcolor": "#E5ECF6",
          "polar": {
           "angularaxis": {
            "gridcolor": "white",
            "linecolor": "white",
            "ticks": ""
           },
           "bgcolor": "#E5ECF6",
           "radialaxis": {
            "gridcolor": "white",
            "linecolor": "white",
            "ticks": ""
           }
          },
          "scene": {
           "xaxis": {
            "backgroundcolor": "#E5ECF6",
            "gridcolor": "white",
            "gridwidth": 2,
            "linecolor": "white",
            "showbackground": true,
            "ticks": "",
            "zerolinecolor": "white"
           },
           "yaxis": {
            "backgroundcolor": "#E5ECF6",
            "gridcolor": "white",
            "gridwidth": 2,
            "linecolor": "white",
            "showbackground": true,
            "ticks": "",
            "zerolinecolor": "white"
           },
           "zaxis": {
            "backgroundcolor": "#E5ECF6",
            "gridcolor": "white",
            "gridwidth": 2,
            "linecolor": "white",
            "showbackground": true,
            "ticks": "",
            "zerolinecolor": "white"
           }
          },
          "shapedefaults": {
           "line": {
            "color": "#2a3f5f"
           }
          },
          "ternary": {
           "aaxis": {
            "gridcolor": "white",
            "linecolor": "white",
            "ticks": ""
           },
           "baxis": {
            "gridcolor": "white",
            "linecolor": "white",
            "ticks": ""
           },
           "bgcolor": "#E5ECF6",
           "caxis": {
            "gridcolor": "white",
            "linecolor": "white",
            "ticks": ""
           }
          },
          "title": {
           "x": 0.05
          },
          "xaxis": {
           "automargin": true,
           "gridcolor": "white",
           "linecolor": "white",
           "ticks": "",
           "title": {
            "standoff": 15
           },
           "zerolinecolor": "white",
           "zerolinewidth": 2
          },
          "yaxis": {
           "automargin": true,
           "gridcolor": "white",
           "linecolor": "white",
           "ticks": "",
           "title": {
            "standoff": 15
           },
           "zerolinecolor": "white",
           "zerolinewidth": 2
          }
         }
        },
        "title": {
         "font": {
          "size": 16
         },
         "text": "Revenue by State - 2023"
        }
       }
      }
     },
     "metadata": {},
     "output_type": "display_data"
    },
    {
     "name": "stdout",
     "output_type": "stream",
     "text": [
      "\n",
      "Geographic Insights:\n",
      "Top performing state: CA\n",
      "Revenue: $537,880.74 (16.0% of total)\n",
      "States contributing to top 15: CA, TX, FL, NY, IL\n"
     ]
    }
   ],
   "source": [
    "# Create geographic heatmap\n",
    "geo_heatmap = metrics_calculator.create_geographic_heatmap(\n",
    "    geographic_performance, \n",
    "    f\"Revenue by State - {CURRENT_YEAR}\"\n",
    ")\n",
    "geo_heatmap.show()\n",
    "\n",
    "# Geographic insights\n",
    "top_state = geographic_performance.index[0]\n",
    "top_state_revenue = geographic_performance.iloc[0]['total_revenue']\n",
    "top_state_share = geographic_performance.iloc[0]['revenue_share']\n",
    "\n",
    "print(f\"\\nGeographic Insights:\")\n",
    "print(f\"Top performing state: {top_state}\")\n",
    "print(f\"Revenue: ${top_state_revenue:,.2f} ({top_state_share:.1f}% of total)\")\n",
    "print(f\"States contributing to top {TOP_N_STATES}: {', '.join(geographic_performance.index[:5])}\")"
   ]
  },
  {
   "cell_type": "markdown",
   "id": "919db6fb",
   "metadata": {},
   "source": [
    "### 4.4 Customer Experience Analysis {#customer-experience}\n",
    "\n",
    "Analysis of customer satisfaction metrics, delivery performance, and customer experience indicators."
   ]
  },
  {
   "cell_type": "code",
   "execution_count": 14,
   "id": "6330fb83",
   "metadata": {},
   "outputs": [
    {
     "name": "stdout",
     "output_type": "stream",
     "text": [
      "Customer Satisfaction Analysis (2023):\n",
      "Average Review Score: 4.10/5.0\n",
      "Total Reviews: 4,635\n",
      "Customer Satisfaction Rate (4-5 stars): 51.6%\n",
      "Net Promoter Score: 27.5\n",
      "\n",
      "Review Score Distribution:\n",
      "  1.0 stars: 3.5%\n",
      "  2.0 stars: 6.9%\n",
      "  3.0 stars: 15.4%\n",
      "  4.0 stars: 24.3%\n",
      "  5.0 stars: 49.9%\n"
     ]
    }
   ],
   "source": [
    "# Analyze customer satisfaction\n",
    "satisfaction_metrics = metrics_calculator.analyze_customer_satisfaction(current_period_data)\n",
    "\n",
    "if 'error' not in satisfaction_metrics:\n",
    "    print(f\"Customer Satisfaction Analysis ({CURRENT_YEAR}):\")\n",
    "    print(f\"Average Review Score: {satisfaction_metrics['avg_review_score']:.2f}/5.0\")\n",
    "    print(f\"Total Reviews: {satisfaction_metrics['total_reviews']:,}\")\n",
    "    print(f\"Customer Satisfaction Rate (4-5 stars): {satisfaction_metrics['satisfaction_rate']:.1f}%\")\n",
    "    print(f\"Net Promoter Score: {satisfaction_metrics['nps_score']:.1f}\")\n",
    "    \n",
    "    print(\"\\nReview Score Distribution:\")\n",
    "    for score, percentage in satisfaction_metrics['review_distribution'].items():\n",
    "        print(f\"  {score} stars: {percentage:.1%}\")\n",
    "else:\n",
    "    print(satisfaction_metrics['error'])"
   ]
  },
  {
   "cell_type": "code",
   "execution_count": 15,
   "id": "b5919e1c",
   "metadata": {},
   "outputs": [
    {
     "data": {
      "image/png": "[encoded data removed]",
      "text/plain": [
       "<Figure size 1500x600 with 2 Axes>"
      ]
     },
     "metadata": {},
     "output_type": "display_data"
    }
   ],
   "source": [
    "# Create customer satisfaction visualization\n",
    "satisfaction_plot = metrics_calculator.create_satisfaction_plot(\n",
    "    satisfaction_metrics, \n",
    "    f\"Customer Satisfaction Analysis - {CURRENT_YEAR}\"\n",
    ")\n",
    "plt.show()"
   ]
  },
  {
   "cell_type": "code",
   "execution_count": 16,
   "id": "48e3f67d",
   "metadata": {},
   "outputs": [
    {
     "name": "stdout",
     "output_type": "stream",
     "text": [
      "Delivery Performance Statistics (2023):\n",
      "Average delivery time: 8.0 days\n",
      "Median delivery time: 8.0 days\n",
      "Fastest delivery: 2 days\n",
      "Slowest delivery: 15 days\n",
      "\n",
      "Delivery Speed Distribution:\n",
      "  8+ days: 55.1%\n",
      "  4-7 days: 37.8%\n",
      "  1-3 days: 7.1%\n"
     ]
    }
   ],
   "source": [
    "# Analyze delivery performance\n",
    "if 'delivery_days' in current_period_data.columns:\n",
    "    delivery_stats = current_period_data['delivery_days'].describe()\n",
    "    print(f\"Delivery Performance Statistics ({CURRENT_YEAR}):\")\n",
    "    print(f\"Average delivery time: {delivery_stats['mean']:.1f} days\")\n",
    "    print(f\"Median delivery time: {delivery_stats['50%']:.1f} days\")\n",
    "    print(f\"Fastest delivery: {delivery_stats['min']:.0f} days\")\n",
    "    print(f\"Slowest delivery: {delivery_stats['max']:.0f} days\")\n",
    "    \n",
    "    # Delivery category distribution\n",
    "    if 'delivery_category' in current_period_data.columns:\n",
    "        delivery_dist = current_period_data['delivery_category'].value_counts(normalize=True)\n",
    "        print(\"\\nDelivery Speed Distribution:\")\n",
    "        for category, percentage in delivery_dist.items():\n",
    "            print(f\"  {category}: {percentage:.1%}\")\n",
    "else:\n",
    "    print(\"Delivery performance data not available\")"
   ]
  },
  {
   "cell_type": "code",
   "execution_count": 17,
   "id": "0622a86a",
   "metadata": {},
   "outputs": [
    {
     "name": "stdout",
     "output_type": "stream",
     "text": [
      "Order Status Distribution (2023):\n",
      "  order_status  percentage\n",
      "0    delivered       93.64\n",
      "1      shipped        3.19\n",
      "2     canceled        1.29\n",
      "3   processing        1.19\n",
      "4      pending        0.51\n",
      "5     returned        0.18\n",
      "\n",
      "Operational Insights:\n",
      "Order fulfillment rate: 93.6%\n",
      "Order cancellation rate: 1.3%\n"
     ]
    }
   ],
   "source": [
    "# Analyze order status distribution\n",
    "order_status_dist = metrics_calculator.analyze_order_status_distribution(\n",
    "    datasets['orders'][datasets['orders']['year'] == CURRENT_YEAR]\n",
    ")\n",
    "\n",
    "print(f\"Order Status Distribution ({CURRENT_YEAR}):\")\n",
    "print(order_status_dist)\n",
    "\n",
    "# Calculate operational metrics\n",
    "delivered_rate = order_status_dist[order_status_dist['order_status'] == 'delivered']['percentage'].iloc[0]\n",
    "canceled_rate = order_status_dist[order_status_dist['order_status'] == 'canceled']['percentage'].iloc[0]\n",
    "\n",
    "print(f\"\\nOperational Insights:\")\n",
    "print(f\"Order fulfillment rate: {delivered_rate:.1f}%\")\n",
    "print(f\"Order cancellation rate: {canceled_rate:.1f}%\")"
   ]
  },
  {
   "cell_type": "markdown",
   "id": "a7cbbade",
   "metadata": {},
   "source": [
    "## 5. Summary of Key Insights {#summary}\n",
    "\n",
    "Based on the comprehensive analysis above, here are the key insights and recommendations:"
   ]
  },
  {
   "cell_type": "code",
   "execution_count": 18,
   "id": "5449744b",
   "metadata": {},
   "outputs": [
    {
     "name": "stdout",
     "output_type": "stream",
     "text": [
      "================================================================================\n",
      "COMPREHENSIVE BUSINESS ANALYSIS SUMMARY - 2023\n",
      "================================================================================\n",
      "\n",
      "1. REVENUE PERFORMANCE:\n",
      "   - Total Revenue: $3,360,294.74\n",
      "   - Year-over-year change: -2.46% (decreased)\n",
      "   - Average Order Value: $724.98\n",
      "   - Total Orders: 4,635\n",
      "\n",
      "2. PRODUCT CATEGORY PERFORMANCE:\n",
      "   - Top performing category: electronics\n",
      "   - Top category revenue: $1,401,359.21\n",
      "   - Market concentration: Top 3 categories account for 75.7% of revenue\n",
      "\n",
      "3. GEOGRAPHIC PERFORMANCE:\n",
      "   - Top performing state: CA\n",
      "   - Top state revenue: $537,880.74\n",
      "   - Geographic concentration: Top 5 states account for 50.3% of revenue\n",
      "\n",
      "4. CUSTOMER EXPERIENCE:\n",
      "   - Average customer satisfaction: 4.10/5.0\n",
      "   - Customer satisfaction rate: 51.6% (4-5 star reviews)\n",
      "   - Net Promoter Score: 27.5\n",
      "   - Average delivery time: 8.0 days\n",
      "\n",
      "5. OPERATIONAL METRICS:\n",
      "   - Order fulfillment rate: 93.6%\n",
      "   - Order cancellation rate: 1.3%\n",
      "   - Monthly growth volatility: 8.78%\n",
      "\n",
      "================================================================================\n"
     ]
    }
   ],
   "source": [
    "# Generate comprehensive summary\n",
    "print(\"=\" * 80)\n",
    "print(f\"COMPREHENSIVE BUSINESS ANALYSIS SUMMARY - {CURRENT_YEAR}\")\n",
    "print(\"=\" * 80)\n",
    "\n",
    "# Revenue Summary\n",
    "revenue_change = current_metrics['revenue_growth'] if 'revenue_growth' in current_metrics else 0\n",
    "revenue_direction = \"increased\" if revenue_change > 0 else \"decreased\"\n",
    "\n",
    "print(f\"\\n1. REVENUE PERFORMANCE:\")\n",
    "print(f\"   - Total Revenue: ${current_metrics['total_revenue']:,.2f}\")\n",
    "print(f\"   - Year-over-year change: {revenue_change:.2f}% ({revenue_direction})\")\n",
    "print(f\"   - Average Order Value: ${current_metrics['average_order_value']:.2f}\")\n",
    "print(f\"   - Total Orders: {current_metrics['total_orders']:,}\")\n",
    "\n",
    "# Category Performance\n",
    "if len(category_performance) > 0:\n",
    "    print(f\"\\n2. PRODUCT CATEGORY PERFORMANCE:\")\n",
    "    print(f\"   - Top performing category: {category_performance.index[0]}\")\n",
    "    print(f\"   - Top category revenue: ${category_performance.iloc[0]['total_revenue']:,.2f}\")\n",
    "    print(f\"   - Market concentration: Top 3 categories account for {category_performance.head(3)['revenue_share'].sum():.1f}% of revenue\")\n",
    "\n",
    "# Geographic Performance\n",
    "if len(geographic_performance) > 0:\n",
    "    print(f\"\\n3. GEOGRAPHIC PERFORMANCE:\")\n",
    "    print(f\"   - Top performing state: {geographic_performance.index[0]}\")\n",
    "    print(f\"   - Top state revenue: ${geographic_performance.iloc[0]['total_revenue']:,.2f}\")\n",
    "    print(f\"   - Geographic concentration: Top 5 states account for {geographic_performance.head(5)['revenue_share'].sum():.1f}% of revenue\")\n",
    "\n",
    "# Customer Experience\n",
    "if 'error' not in satisfaction_metrics:\n",
    "    print(f\"\\n4. CUSTOMER EXPERIENCE:\")\n",
    "    print(f\"   - Average customer satisfaction: {satisfaction_metrics['avg_review_score']:.2f}/5.0\")\n",
    "    print(f\"   - Customer satisfaction rate: {satisfaction_metrics['satisfaction_rate']:.1f}% (4-5 star reviews)\")\n",
    "    print(f\"   - Net Promoter Score: {satisfaction_metrics['nps_score']:.1f}\")\n",
    "    if 'delivery_days' in current_period_data.columns:\n",
    "        avg_delivery = current_period_data['delivery_days'].mean()\n",
    "        print(f\"   - Average delivery time: {avg_delivery:.1f} days\")\n",
    "\n",
    "# Operational Metrics\n",
    "print(f\"\\n5. OPERATIONAL METRICS:\")\n",
    "print(f\"   - Order fulfillment rate: {delivered_rate:.1f}%\")\n",
    "print(f\"   - Order cancellation rate: {canceled_rate:.1f}%\")\n",
    "print(f\"   - Monthly growth volatility: {monthly_trends['revenue_growth'].std():.2f}%\")\n",
    "\n",
    "print(\"\\n\" + \"=\" * 80)"
   ]
  },
  {
   "cell_type": "markdown",
   "id": "323e0c4d",
   "metadata": {},
   "source": [
    "### Strategic Recommendations\n",
    "\n",
    "Based on the analysis results, here are strategic recommendations for business improvement:\n",
    "\n",
    "#### Revenue Growth Opportunities\n",
    "- Focus on months showing positive growth trends\n",
    "- Investigate factors contributing to revenue decline and develop mitigation strategies\n",
    "- Optimize pricing strategies for better average order values\n",
    "\n",
    "#### Product Portfolio Optimization\n",
    "- Invest more resources in top-performing product categories\n",
    "- Evaluate underperforming categories for improvement or discontinuation\n",
    "- Consider cross-selling opportunities between high and low-performing categories\n",
    "\n",
    "#### Geographic Expansion Strategy\n",
    "- Strengthen market position in top-performing states\n",
    "- Develop targeted marketing campaigns for underperforming regions\n",
    "- Analyze logistics and delivery optimization opportunities by geography\n",
    "\n",
    "#### Customer Experience Enhancement\n",
    "- Maintain or improve delivery speed to sustain customer satisfaction\n",
    "- Implement programs to address negative reviews and improve NPS\n",
    "- Develop loyalty programs for high-value customers\n",
    "\n",
    "#### Operational Excellence\n",
    "- Reduce order cancellation rates through better inventory management\n",
    "- Optimize fulfillment processes to maintain high delivery rates\n",
    "- Implement predictive analytics for demand forecasting\n",
    "\n",
    "---\n",
    "\n",
    "**Note**: This analysis framework can be easily adapted for different time periods, product segments, or geographic regions by modifying the configuration parameters at the beginning of the notebook."
   ]
  },
  {
   "cell_type": "code",
   "execution_count": 19,
   "id": "7b690d05",
   "metadata": {},
   "outputs": [
    {
     "name": "stdout",
     "output_type": "stream",
     "text": [
      "Metrics exported to business_metrics_2023_analysis.csv\n",
      "Metrics exported successfully to business_metrics_2023_analysis.csv\n",
      "\n",
      "Analysis completed for 2023 vs 2022\n",
      "Total execution time: 2025-09-12 17:31:53.087920\n"
     ]
    }
   ],
   "source": [
    "# Optional: Export key metrics to CSV for further analysis\n",
    "export_filename = f\"business_metrics_{CURRENT_YEAR}_analysis.csv\"\n",
    "\n",
    "try:\n",
    "    metrics_calculator.export_metrics_to_csv(current_metrics, export_filename)\n",
    "    print(f\"Metrics exported successfully to {export_filename}\")\n",
    "except Exception as e:\n",
    "    print(f\"Export failed: {e}\")\n",
    "    \n",
    "print(f\"\\nAnalysis completed for {CURRENT_YEAR} vs {COMPARISON_YEAR}\")\n",
    "print(f\"Total execution time: {datetime.now()}\")"
   ]
  }
 ],
 "metadata": {
  "kernelspec": {
   "display_name": ".venv",
   "language": "python",
   "name": "python3"
  },
  "language_info": {
   "codemirror_mode": {
    "name": "ipython",
    "version": 3
   },
   "file_extension": ".py",
   "mimetype": "text/x-python",
   "name": "python",
   "nbconvert_exporter": "python",
   "pygments_lexer": "ipython3",
   "version": "3.12.10"
  }
 },
 "nbformat": 4,
 "nbformat_minor": 5
}
